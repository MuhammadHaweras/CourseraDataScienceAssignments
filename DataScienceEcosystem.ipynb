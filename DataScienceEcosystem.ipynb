{
  "nbformat": 4,
  "nbformat_minor": 0,
  "metadata": {
    "colab": {
      "provenance": []
    },
    "kernelspec": {
      "name": "python3",
      "display_name": "Python 3"
    },
    "language_info": {
      "name": "python"
    }
  },
  "cells": [
    {
      "cell_type": "markdown",
      "source": [
        "# Data Science Tools and Ecosystem"
      ],
      "metadata": {
        "id": "GjM78324xPRM"
      }
    },
    {
      "cell_type": "markdown",
      "source": [
        "# In this notebook, Data Science Tools and Ecosystem are summarized."
      ],
      "metadata": {
        "id": "gYCH-w1Nx7Sy"
      }
    },
    {
      "cell_type": "markdown",
      "source": [
        "**Objectives**\n",
        "\n",
        "\n",
        "*   List Popular Lnaguages\n",
        "*   List popular Libraries\n",
        "*   Evalute expression in Python\n",
        "\n"
      ],
      "metadata": {
        "id": "pk-s8alq4K_1"
      }
    },
    {
      "cell_type": "markdown",
      "source": [
        "# Some of the popular languages that Data Scientists use are:\n",
        "\n",
        "\n",
        "1.   Python\n",
        "2.   R\n",
        "3.   Scala\n",
        "\n",
        "\n"
      ],
      "metadata": {
        "id": "jA-jH_mwyEmK"
      }
    },
    {
      "cell_type": "markdown",
      "source": [
        "# Some of the commonly used libraries used by Data Scientists include:\n",
        "\n",
        "\n",
        "1.   Numpy\n",
        "\n",
        "1.   Pandas\n",
        "2.   Seaborn\n"
      ],
      "metadata": {
        "id": "widdCF-2yVD2"
      }
    },
    {
      "cell_type": "markdown",
      "source": [
        "| Data Science Tools      |\n",
        "|--------------------------|\n",
        "| Jupyter Notebooks       |\n",
        "| RStudio                 |\n",
        "| Apache Zeppelin         |\n"
      ],
      "metadata": {
        "id": "BRjWsbazyqqL"
      }
    },
    {
      "cell_type": "markdown",
      "source": [
        "### Below are a few examples of evaluating arithmetic expressions in Python"
      ],
      "metadata": {
        "id": "3ryJuqhezSox"
      }
    },
    {
      "cell_type": "code",
      "execution_count": 2,
      "metadata": {
        "colab": {
          "base_uri": "https://localhost:8080/"
        },
        "id": "MGGAoU0GxDxm",
        "outputId": "c737c057-3b95-4e69-dad5-88a32810b4ed"
      },
      "outputs": [
        {
          "output_type": "execute_result",
          "data": {
            "text/plain": [
              "17"
            ]
          },
          "metadata": {},
          "execution_count": 2
        }
      ],
      "source": [
        "(3*4)+5  # This a simple arithmetic expression to mutiply then add integers"
      ]
    },
    {
      "cell_type": "code",
      "source": [
        "minutes = 200\n",
        "hours = minutes / 60  # This will convert 200 minutes to hours by diving by 60\n",
        "hours"
      ],
      "metadata": {
        "colab": {
          "base_uri": "https://localhost:8080/"
        },
        "id": "qcAGgkpmzsWg",
        "outputId": "0f23bfc5-335d-4a7f-81a4-536d333649a1"
      },
      "execution_count": 3,
      "outputs": [
        {
          "output_type": "execute_result",
          "data": {
            "text/plain": [
              "3.3333333333333335"
            ]
          },
          "metadata": {},
          "execution_count": 3
        }
      ]
    },
    {
      "cell_type": "markdown",
      "source": [
        "## Author:\n",
        "   Haweras"
      ],
      "metadata": {
        "id": "a6tot0kP4lyy"
      }
    },
    {
      "cell_type": "code",
      "source": [],
      "metadata": {
        "id": "H0Rt8m0s4pQI"
      },
      "execution_count": null,
      "outputs": []
    }
  ]
}